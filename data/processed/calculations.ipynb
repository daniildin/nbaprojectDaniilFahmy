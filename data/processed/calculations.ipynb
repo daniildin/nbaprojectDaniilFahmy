{
 "cells": [
  {
   "cell_type": "code",
   "execution_count": 4,
   "id": "cdefb922",
   "metadata": {},
   "outputs": [
    {
     "name": "stdout",
     "output_type": "stream",
     "text": [
      "✅ Done! File saved as 'Merged_With_Superteams_And_Metrics.csv'\n"
     ]
    }
   ],
   "source": [
    "import pandas as pd\n",
    "\n",
    "# Load your dataset (make sure the CSV file is in the same folder)\n",
    "merged_df = pd.read_csv(\"Merged_Financial_And_Performance_Data.csv\")\n",
    "\n",
    "# Step 1: Define superteams (use exact names from your dataset)\n",
    "superteam_seasons = []\n",
    "\n",
    "superteam_seasons += [{\"team\": \"Boston Celtics\", \"season\": year} for year in range(2007, 2013)]\n",
    "superteam_seasons += [{\"team\": \"Miami Heat\", \"season\": year} for year in range(2010, 2015)]\n",
    "superteam_seasons += [{\"team\": \"Cleveland Cavaliers\", \"season\": year} for year in range(2014, 2018)]\n",
    "superteam_seasons += [{\"team\": \"Golden State Warriors\", \"season\": year} for year in range(2016, 2020)]\n",
    "superteam_seasons += [{\"team\": \"Los Angeles Lakers\", \"season\": 2003}, {\"team\": \"Los Angeles Lakers\", \"season\": 2004}]\n",
    "superteam_seasons += [{\"team\": \"Los Angeles Lakers\", \"season\": year} for year in range(2012, 2014)]\n",
    "superteam_seasons += [{\"team\": \"Brooklyn Nets\", \"season\": year} for year in range(2013, 2015)]\n",
    "superteam_seasons += [{\"team\": \"Oklahoma City Thunder\", \"season\": 2017}, {\"team\": \"Oklahoma City Thunder\", \"season\": 2018}]\n",
    "superteam_seasons += [{\"team\": \"Brooklyn Nets\", \"season\": 2021}, {\"team\": \"Brooklyn Nets\", \"season\": 2022}]\n",
    "superteam_seasons += [{\"team\": \"Los Angeles Lakers\", \"season\": 2021}, {\"team\": \"Los Angeles Lakers\", \"season\": 2022}, {\"team\": \"Los Angeles Lakers\", \"season\": 2023}]\n",
    "superteam_seasons += [{\"team\": \"Los Angeles Clippers\", \"season\": 2023}, {\"team\": \"Los Angeles Clippers\", \"season\": 2024}]\n",
    "superteam_seasons += [{\"team\": \"Phoenix Suns\", \"season\": 2023}, {\"team\": \"Phoenix Suns\", \"season\": 2024}, {\"team\": \"Phoenix Suns\", \"season\": 2025}]\n",
    "\n",
    "# Step 2: Create superteam DataFrame\n",
    "superteam_df = pd.DataFrame(superteam_seasons)\n",
    "superteam_df[\"superteam\"] = \"Yes\"\n",
    "\n",
    "# Step 3: Merge and label superteams\n",
    "merged_df = merged_df.merge(superteam_df, on=[\"team\", \"season\"], how=\"left\")\n",
    "merged_df[\"superteam\"] = merged_df[\"superteam\"].fillna(\"No\")\n",
    "\n",
    "# Step 4: Ensure numeric columns\n",
    "merged_df[\"payroll\"] = pd.to_numeric(merged_df[\"payroll\"], errors=\"coerce\")\n",
    "merged_df[\"revenue\"] = pd.to_numeric(merged_df[\"revenue\"], errors=\"coerce\")\n",
    "merged_df[\"wins\"] = pd.to_numeric(merged_df[\"wins\"], errors=\"coerce\")\n",
    "\n",
    "# Step 5: Calculate cost/revenue per win\n",
    "merged_df[\"cost_per_win\"] = merged_df[\"payroll\"] / merged_df[\"wins\"]\n",
    "merged_df[\"revenue_per_win\"] = merged_df[\"revenue\"] / merged_df[\"wins\"]\n",
    "\n",
    "# Step 6: Save result to CSV\n",
    "merged_df.to_csv(\"Merged_With_Superteams_And_Metrics.csv\", index=False)\n",
    "\n",
    "print(\"✅ Done! File saved as 'Merged_With_Superteams_And_Metrics.csv'\")\n"
   ]
  },
  {
   "cell_type": "code",
   "execution_count": 5,
   "id": "979333f8",
   "metadata": {},
   "outputs": [
    {
     "name": "stdout",
     "output_type": "stream",
     "text": [
      "✅ Superteams file saved as 'Superteams_Only.csv'\n"
     ]
    }
   ],
   "source": [
    "\n",
    "# Load the full dataset (after labeling and metrics)\n",
    "df = pd.read_csv(\"Merged_With_Superteams_And_Metrics.csv\")\n",
    "\n",
    "# Filter only superteams\n",
    "superteams_only = df[df[\"superteam\"] == \"Yes\"]\n",
    "\n",
    "# Save to a new CSV\n",
    "superteams_only.to_csv(\"Superteams_Only.csv\", index=False)\n",
    "\n",
    "print(\"✅ Superteams file saved as 'Superteams_Only.csv'\")\n",
    "\n"
   ]
  },
  {
   "cell_type": "code",
   "execution_count": 7,
   "id": "b0b81f40",
   "metadata": {},
   "outputs": [
    {
     "name": "stdout",
     "output_type": "stream",
     "text": [
      "📊 % of Superteams That Were Profitable:\n",
      "✅ Profitable: 97.2%\n",
      "❌ Not Profitable: 2.8%\n"
     ]
    }
   ],
   "source": [
    "\n",
    "\n",
    "# Make sure payroll and revenue are numeric\n",
    "df[\"payroll\"] = pd.to_numeric(df[\"payroll\"], errors=\"coerce\")\n",
    "df[\"revenue\"] = pd.to_numeric(df[\"revenue\"], errors=\"coerce\")\n",
    "\n",
    "# Calculate profit margin and profitability\n",
    "df[\"profit_margin\"] = df[\"revenue\"] - df[\"payroll\"]\n",
    "df[\"profitable\"] = df[\"profit_margin\"] > 0\n",
    "\n",
    "# Calculate percentage of profitable superteams\n",
    "result = df[df[\"superteam\"] == \"Yes\"][\"profitable\"].value_counts(normalize=True) * 100\n",
    "\n",
    "# Display as nicely formatted output\n",
    "print(\"📊 % of Superteams That Were Profitable:\")\n",
    "for value, percent in result.items():\n",
    "    label = \"✅ Profitable\" if value else \"❌ Not Profitable\"\n",
    "    print(f\"{label}: {percent:.1f}%\")\n"
   ]
  },
  {
   "cell_type": "code",
   "execution_count": 6,
   "id": "33b06037",
   "metadata": {},
   "outputs": [
    {
     "name": "stdout",
     "output_type": "stream",
     "text": [
      "✅ File saved as 'Superteams_Profitability.csv'\n"
     ]
    }
   ],
   "source": [
    "\n",
    "# Load the dataset that includes superteams\n",
    "df = pd.read_csv(\"Merged_With_Superteams_And_Metrics.csv\")\n",
    "\n",
    "# Ensure numeric columns\n",
    "df[\"payroll\"] = pd.to_numeric(df[\"payroll\"], errors=\"coerce\")\n",
    "df[\"revenue\"] = pd.to_numeric(df[\"revenue\"], errors=\"coerce\")\n",
    "\n",
    "# Calculate profitability\n",
    "df[\"profit_margin\"] = df[\"revenue\"] - df[\"payroll\"]\n",
    "df[\"profitable\"] = df[\"profit_margin\"] > 0\n",
    "\n",
    "# Filter only superteams\n",
    "superteams_df = df[df[\"superteam\"] == \"Yes\"]\n",
    "\n",
    "# Select only needed columns\n",
    "output_df = superteams_df[[\"team\", \"season\", \"payroll\", \"revenue\", \"profit_margin\", \"profitable\"]]\n",
    "\n",
    "# Save to CSV\n",
    "output_df.to_csv(\"Superteams_Profitability.csv\", index=False)\n",
    "\n",
    "print(\"✅ File saved as 'Superteams_Profitability.csv'\")\n",
    "\n"
   ]
  },
  {
   "cell_type": "code",
   "execution_count": 12,
   "id": "f604d909",
   "metadata": {},
   "outputs": [
    {
     "name": "stdout",
     "output_type": "stream",
     "text": [
      "===== Wins Comparison =====\n",
      "Superteams avg wins: 47.83\n",
      "Balanced teams avg wins: 40.17\n",
      "Difference: 7.67 more wins for superteams\n",
      "\n",
      "===== Cost per Win Comparison =====\n",
      "Superteams avg cost per win: $2,691,918.29\n",
      "Balanced teams avg cost per win: $2,504,358.28\n",
      "Difference: $187,560.01 more per win for superteams\n"
     ]
    }
   ],
   "source": [
    "import pandas as pd\n",
    "import numpy as np\n",
    "\n",
    "# Load the dataset\n",
    "df = pd.read_csv(\"Merged_With_Superteams_And_Metrics.csv\")\n",
    "\n",
    "# Drop rows with missing required values\n",
    "df = df.dropna(subset=[\"wins\", \"cost_per_win\"])\n",
    "\n",
    "# Split into Superteams and Balanced Teams\n",
    "superteams = df[df[\"superteam\"] == \"Yes\"]\n",
    "balanced_teams = df[df[\"superteam\"] == \"No\"]\n",
    "\n",
    "# Calculate averages and differences\n",
    "super_wins_avg = np.mean(superteams[\"wins\"])\n",
    "balanced_wins_avg = np.mean(balanced_teams[\"wins\"])\n",
    "wins_diff = super_wins_avg - balanced_wins_avg\n",
    "\n",
    "super_cost_avg = np.mean(superteams[\"cost_per_win\"])\n",
    "balanced_cost_avg = np.mean(balanced_teams[\"cost_per_win\"])\n",
    "cost_diff = super_cost_avg - balanced_cost_avg\n",
    "\n",
    "# Print results\n",
    "print(\"===== Wins Comparison =====\")\n",
    "print(f\"Superteams avg wins: {super_wins_avg:.2f}\")\n",
    "print(f\"Balanced teams avg wins: {balanced_wins_avg:.2f}\")\n",
    "print(f\"Difference: {wins_diff:.2f} more wins for superteams\")\n",
    "\n",
    "print(\"\\n===== Cost per Win Comparison =====\")\n",
    "print(f\"Superteams avg cost per win: ${super_cost_avg:,.2f}\")\n",
    "print(f\"Balanced teams avg cost per win: ${balanced_cost_avg:,.2f}\")\n",
    "print(f\"Difference: ${cost_diff:,.2f} more per win for superteams\")\n",
    "\n",
    "\n"
   ]
  },
  {
   "cell_type": "code",
   "execution_count": 13,
   "id": "8b6fa029",
   "metadata": {},
   "outputs": [
    {
     "name": "stdout",
     "output_type": "stream",
     "text": [
      "===== Revenue per Win (Efficiency) =====\n",
      "Superteams avg revenue per win: $6,142,166.56\n",
      "Balanced teams avg revenue per win: $5,189,135.11\n",
      "Difference: $953,031.45\n",
      "=> Superteams generate more revenue per win? Yes\n",
      "\n",
      "===== Boom or Bust? (Win Volatility) =====\n",
      "Superteams win volatility (std dev): 10.96\n",
      "Balanced teams win volatility (std dev): 12.16\n",
      "=> Are superteams more boom or bust? No\n"
     ]
    }
   ],
   "source": [
    "import pandas as pd\n",
    "import numpy as np\n",
    "\n",
    "# Load dataset\n",
    "df = pd.read_csv(\"Merged_With_Superteams_And_Metrics.csv\")\n",
    "\n",
    "# Drop missing values for needed columns\n",
    "df = df.dropna(subset=[\"wins\", \"cost_per_win\", \"revenue_per_win\"])\n",
    "\n",
    "# Split into superteams and balanced teams\n",
    "superteams = df[df[\"superteam\"] == \"Yes\"]\n",
    "balanced = df[df[\"superteam\"] == \"No\"]\n",
    "\n",
    "# === Revenue Efficiency (Revenue per Win) ===\n",
    "super_rev_avg = np.mean(superteams[\"revenue_per_win\"])\n",
    "balanced_rev_avg = np.mean(balanced[\"revenue_per_win\"])\n",
    "rev_diff = super_rev_avg - balanced_rev_avg\n",
    "\n",
    "print(\"===== Revenue per Win (Efficiency) =====\")\n",
    "print(f\"Superteams avg revenue per win: ${super_rev_avg:,.2f}\")\n",
    "print(f\"Balanced teams avg revenue per win: ${balanced_rev_avg:,.2f}\")\n",
    "print(f\"Difference: ${rev_diff:,.2f}\")\n",
    "print(\"=> Superteams generate more revenue per win?\", \"Yes\" if rev_diff > 0 else \"No\")\n",
    "\n",
    "# === Boom or Bust? (Volatility in Wins) ===\n",
    "super_wins_std = np.std(superteams[\"wins\"])\n",
    "balanced_wins_std = np.std(balanced[\"wins\"])\n",
    "\n",
    "print(\"\\n===== Boom or Bust? (Win Volatility) =====\")\n",
    "print(f\"Superteams win volatility (std dev): {super_wins_std:.2f}\")\n",
    "print(f\"Balanced teams win volatility (std dev): {balanced_wins_std:.2f}\")\n",
    "print(\"=> Are superteams more boom or bust?\", \"Yes\" if super_wins_std > balanced_wins_std else \"No\")\n"
   ]
  },
  {
   "cell_type": "code",
   "execution_count": null,
   "id": "742c31ea",
   "metadata": {},
   "outputs": [],
   "source": []
  }
 ],
 "metadata": {
  "kernelspec": {
   "display_name": "Python 3",
   "language": "python",
   "name": "python3"
  },
  "language_info": {
   "codemirror_mode": {
    "name": "ipython",
    "version": 3
   },
   "file_extension": ".py",
   "mimetype": "text/x-python",
   "name": "python",
   "nbconvert_exporter": "python",
   "pygments_lexer": "ipython3",
   "version": "3.9.6"
  }
 },
 "nbformat": 4,
 "nbformat_minor": 5
}

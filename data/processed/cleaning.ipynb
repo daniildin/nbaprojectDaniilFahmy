{
 "cells": [
  {
   "cell_type": "code",
   "execution_count": 8,
   "id": "20d57f16",
   "metadata": {},
   "outputs": [
    {
     "name": "stdout",
     "output_type": "stream",
     "text": [
      "Merging complete. File saved as 'Merged_Financial_And_Performance_Data.csv'\n"
     ]
    }
   ],
   "source": [
    "import pandas as pd\n",
    "\n",
    "# Load datasets\n",
    "advanced_stats = pd.read_csv('Advanced_Stats_Single_Year_Season.csv')\n",
    "payroll_data = pd.read_csv('Fully_Cleaned_Payroll_Data.csv')\n",
    "revenue_data = pd.read_csv('TeamRevenue2000-2025.csv')\n",
    "\n",
    "# Create mapping from 'team' to 'team_standardized' from payroll data\n",
    "name_mapping = dict(zip(payroll_data['team'], payroll_data['team_standardized']))\n",
    "\n",
    "# Apply mapping to standardize team names in advanced stats\n",
    "advanced_stats['Team_Standardized'] = advanced_stats['Team'].map(name_mapping).fillna(advanced_stats['Team'])\n",
    "\n",
    "# Clean revenue data: convert \"$XXXM\" to numeric\n",
    "revenue_data['revenue'] = revenue_data['revenue'].str.replace('[\\$,M]', '', regex=True).astype(float) * 1_000_000\n",
    "\n",
    "# Merge advanced stats with payroll data\n",
    "merged_df = pd.merge(\n",
    "    advanced_stats,\n",
    "    payroll_data[['team_standardized', 'seasonStartYear', 'payroll', 'inflationAdjPayroll']],\n",
    "    left_on=['Team_Standardized', 'Season'],\n",
    "    right_on=['team_standardized', 'seasonStartYear'],\n",
    "    how='left'\n",
    ")\n",
    "\n",
    "# Merge with revenue data\n",
    "merged_df = pd.merge(\n",
    "    merged_df,\n",
    "    revenue_data[['team', 'seasonStartYear', 'revenue']],\n",
    "    left_on=['Team_Standardized', 'Season'],\n",
    "    right_on=['team', 'seasonStartYear'],\n",
    "    how='left'\n",
    ")\n",
    "\n",
    "# Select and rename relevant columns\n",
    "final_df = merged_df[['Team_Standardized', 'Wins', 'Losses', 'Season', 'payroll', 'inflationAdjPayroll', 'revenue']]\n",
    "final_df.columns = ['team', 'wins', 'losses', 'season', 'payroll', 'inflationAdjPayroll', 'revenue']\n",
    "\n",
    "# Save the final merged dataset\n",
    "final_df.to_csv('Merged_Financial_And_Performance_Data.csv', index=False)\n",
    "\n",
    "print(\"Merging complete. File saved as 'Merged_Financial_And_Performance_Data.csv'\")\n",
    "\n"
   ]
  },
  {
   "cell_type": "code",
   "execution_count": null,
   "id": "47252a4b",
   "metadata": {},
   "outputs": [],
   "source": []
  }
 ],
 "metadata": {
  "kernelspec": {
   "display_name": "Python 3",
   "language": "python",
   "name": "python3"
  },
  "language_info": {
   "codemirror_mode": {
    "name": "ipython",
    "version": 3
   },
   "file_extension": ".py",
   "mimetype": "text/x-python",
   "name": "python",
   "nbconvert_exporter": "python",
   "pygments_lexer": "ipython3",
   "version": "3.9.6"
  }
 },
 "nbformat": 4,
 "nbformat_minor": 5
}

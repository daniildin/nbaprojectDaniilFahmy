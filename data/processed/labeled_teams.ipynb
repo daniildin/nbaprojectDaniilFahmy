{
 "cells": [
  {
   "cell_type": "code",
   "execution_count": null,
   "id": "273fc2dc",
   "metadata": {},
   "outputs": [],
   "source": [
    "import pandas as pd\n",
    "\n",
    "superteam_seasons = []\n",
    "\n",
    "# Each block represents a known superteam with the years\n",
    "superteam_seasons += [{\"team\": \"Boston Celtics\", \"season\": year} for year in range(2007, 2013)]\n",
    "superteam_seasons += [{\"team\": \"Miami Heat\", \"season\": year} for year in range(2010, 2015)]\n",
    "superteam_seasons += [{\"team\": \"Cleveland Cavaliers\", \"season\": year} for year in range(2014, 2018)]\n",
    "superteam_seasons += [{\"team\": \"Golden State Warriors\", \"season\": year} for year in range(2016, 2020)]\n",
    "superteam_seasons += [{\"team\": \"LA Lakers\", \"season\": 2003}, {\"team\": \"LA Lakers\", \"season\": 2004}]\n",
    "superteam_seasons += [{\"team\": \"LA Lakers\", \"season\": year} for year in range(2012, 2014)]\n",
    "superteam_seasons += [{\"team\": \"Brooklyn Nets\", \"season\": year} for year in range(2013, 2015)]\n",
    "superteam_seasons += [{\"team\": \"OKC Thunder\", \"season\": 2017}, {\"team\": \"OKC Thunder\", \"season\": 2018}]\n",
    "superteam_seasons += [{\"team\": \"Brooklyn Nets\", \"season\": 2021}, {\"team\": \"Brooklyn Nets\", \"season\": 2022}]\n",
    "superteam_seasons += [{\"team\": \"LA Lakers\", \"season\": 2021}, {\"team\": \"LA Lakers\", \"season\": 2022}, {\"team\": \"LA Lakers\", \"season\": 2023}]\n",
    "superteam_seasons += [{\"team\": \"LA Clippers\", \"season\": 2023}, {\"team\": \"LA Clippers\", \"season\": 2024}]\n",
    "superteam_seasons += [{\"team\": \"Phoenix Suns\", \"season\": 2023}, {\"team\": \"Phoenix Suns\", \"season\": 2024}, {\"team\": \"Phoenix Suns\", \"season\": 2025}]\n",
    "\n",
    "\n",
    "superteam_df = pd.DataFrame(superteam_seasons)\n",
    "superteam_df[\"superteam\"] = \"Yes\"\n"
   ]
  },
  {
   "cell_type": "code",
   "execution_count": null,
   "id": "b7826fea",
   "metadata": {},
   "outputs": [],
   "source": []
  }
 ],
 "metadata": {
  "kernelspec": {
   "display_name": "Python 3",
   "language": "python",
   "name": "python3"
  },
  "language_info": {
   "codemirror_mode": {
    "name": "ipython",
    "version": 3
   },
   "file_extension": ".py",
   "mimetype": "text/x-python",
   "name": "python",
   "nbconvert_exporter": "python",
   "pygments_lexer": "ipython3",
   "version": "3.9.6"
  }
 },
 "nbformat": 4,
 "nbformat_minor": 5
}
